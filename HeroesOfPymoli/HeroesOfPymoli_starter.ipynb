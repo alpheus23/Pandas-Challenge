{
 "cells": [
  {
   "cell_type": "markdown",
   "metadata": {},
   "source": [
    "### Note\n",
    "* Instructions have been included for each segment. You do not have to follow them exactly, but they are included to help you think through the steps."
   ]
  },
  {
   "cell_type": "code",
   "execution_count": 73,
   "metadata": {},
   "outputs": [],
   "source": [
    "# Dependencies and Setup\n",
    "import pandas as pd\n",
    "import numpy as np\n",
    "\n",
    "# File to Load (Remember to Change These)\n",
    "file_to_load = \"Resources/purchase_data.csv\"\n",
    "\n",
    "# Read Purchasing File and store into Pandas data frame\n",
    "purchase_data = pd.read_csv(file_to_load)"
   ]
  },
  {
   "cell_type": "markdown",
   "metadata": {},
   "source": [
    "## Player Count"
   ]
  },
  {
   "cell_type": "markdown",
   "metadata": {},
   "source": [
    "* Display the total number of players\n"
   ]
  },
  {
   "cell_type": "code",
   "execution_count": 74,
   "metadata": {
    "tags": []
   },
   "outputs": [
    {
     "output_type": "stream",
     "name": "stdout",
     "text": "Total Players:  576\n"
    }
   ],
   "source": [
    "#Calculate the number of unique players from the purchase data csv\n",
    "uniquePlayers = purchase_data[\"SN\"].unique()\n",
    "\n",
    "#Set the number of total players to the length of the uniquePlayers array\n",
    "totalPlayers = len(uniquePlayers)\n",
    "\n",
    "#Print out the number of total players\n",
    "print(\"Total Players: \", totalPlayers)"
   ]
  },
  {
   "cell_type": "markdown",
   "metadata": {},
   "source": [
    "## Purchasing Analysis (Total)"
   ]
  },
  {
   "cell_type": "markdown",
   "metadata": {},
   "source": [
    "* Run basic calculations to obtain number of unique items, average price, etc.\n",
    "\n",
    "\n",
    "* Create a summary data frame to hold the results\n",
    "\n",
    "\n",
    "* Optional: give the displayed data cleaner formatting\n",
    "\n",
    "\n",
    "* Display the summary data frame\n"
   ]
  },
  {
   "cell_type": "code",
   "execution_count": 75,
   "metadata": {
    "scrolled": true
   },
   "outputs": [
    {
     "output_type": "execute_result",
     "data": {
      "text/plain": "   Number of Unique Items  Average Price of Items  \\\n0                     179                   $3.05   \n\n   Total                   Number of Purchases  Total Revenue  \n0                                          780      $2,379.77  ",
      "text/html": "<div>\n<style scoped>\n    .dataframe tbody tr th:only-of-type {\n        vertical-align: middle;\n    }\n\n    .dataframe tbody tr th {\n        vertical-align: top;\n    }\n\n    .dataframe thead th {\n        text-align: right;\n    }\n</style>\n<table border=\"1\" class=\"dataframe\">\n  <thead>\n    <tr style=\"text-align: right;\">\n      <th></th>\n      <th>Number of Unique Items</th>\n      <th>Average Price of Items</th>\n      <th>Total                   Number of Purchases</th>\n      <th>Total Revenue</th>\n    </tr>\n  </thead>\n  <tbody>\n    <tr>\n      <th>0</th>\n      <td>179</td>\n      <td>$3.05</td>\n      <td>780</td>\n      <td>$2,379.77</td>\n    </tr>\n  </tbody>\n</table>\n</div>"
     },
     "metadata": {},
     "execution_count": 75
    }
   ],
   "source": [
    "#Gather information from the purchase data file and store it into variables\n",
    "uniqueItemsArray = purchase_data[\"Item ID\"].unique()\n",
    "uniqueItems = len(uniqueItemsArray)\n",
    "averagePrice = purchase_data[\"Price\"].mean()\n",
    "totalPurchases = purchase_data[\"Purchase ID\"].count()\n",
    "totalRevenue = purchase_data[\"Price\"].sum()\n",
    "\n",
    "#Create a dictionary to house summary information\n",
    "summaryDicts = [{\"Number of Unique Items\": uniqueItems, \"Average Price of Items\": averagePrice, \"Total                   Number of Purchases\": totalPurchases, \"Total Revenue\": totalRevenue}]\n",
    "\n",
    "#Format floats in dictonary to have $ and two decimals\n",
    "pd.options.display.float_format = \"${:,.2f}\".format\n",
    "\n",
    "#Convert summary information into a dataframe\n",
    "summaryDF = pd.DataFrame(summaryDicts)\n",
    "summaryDF"
   ]
  },
  {
   "cell_type": "markdown",
   "metadata": {},
   "source": [
    "## Gender Demographics"
   ]
  },
  {
   "cell_type": "markdown",
   "metadata": {},
   "source": [
    "* Percentage and Count of Male Players\n",
    "\n",
    "\n",
    "* Percentage and Count of Female Players\n",
    "\n",
    "\n",
    "* Percentage and Count of Other / Non-Disclosed\n",
    "\n",
    "\n"
   ]
  },
  {
   "cell_type": "code",
   "execution_count": 76,
   "metadata": {},
   "outputs": [
    {
     "output_type": "execute_result",
     "data": {
      "text/plain": "                       Count  Percent\nMale                     652   83.59%\nFemale                   113   14.49%\nOther / Non-Disclosed     15    1.92%",
      "text/html": "<div>\n<style scoped>\n    .dataframe tbody tr th:only-of-type {\n        vertical-align: middle;\n    }\n\n    .dataframe tbody tr th {\n        vertical-align: top;\n    }\n\n    .dataframe thead th {\n        text-align: right;\n    }\n</style>\n<table border=\"1\" class=\"dataframe\">\n  <thead>\n    <tr style=\"text-align: right;\">\n      <th></th>\n      <th>Count</th>\n      <th>Percent</th>\n    </tr>\n  </thead>\n  <tbody>\n    <tr>\n      <th>Male</th>\n      <td>652</td>\n      <td>83.59%</td>\n    </tr>\n    <tr>\n      <th>Female</th>\n      <td>113</td>\n      <td>14.49%</td>\n    </tr>\n    <tr>\n      <th>Other / Non-Disclosed</th>\n      <td>15</td>\n      <td>1.92%</td>\n    </tr>\n  </tbody>\n</table>\n</div>"
     },
     "metadata": {},
     "execution_count": 76
    }
   ],
   "source": [
    "#Create dataframe to count number of 'Male', 'Female', and 'Other / Non-Disclosed'\n",
    "genderCount = purchase_data[\"Gender\"].value_counts()\n",
    "\n",
    "#Put vales for 'Male', 'Female', and 'Other / Non-Disclosed' into variables \n",
    "maleCount = genderCount[\"Male\"]\n",
    "femaleCount = genderCount[\"Female\"]\n",
    "otherCount = genderCount[\"Other / Non-Disclosed\"]\n",
    "\n",
    "#Calculate percentages of Gender\n",
    "totalCount = maleCount + femaleCount + otherCount\n",
    "\n",
    "malePercent = (maleCount / totalCount) * 100\n",
    "femalePercent = (femaleCount / totalCount) * 100\n",
    "otherPercent = (otherCount / totalCount) * 100\n",
    "\n",
    "#Format floats in dictionary to have % and two decimals\n",
    "pd.options.display.float_format = \"{:,.2f}%\".format\n",
    "\n",
    "genderDF = pd.DataFrame([(maleCount, malePercent), (femaleCount, femalePercent), (otherCount, otherPercent)], columns = ['Count', 'Percent'], index = ['Male', 'Female', 'Other / Non-Disclosed'])\n",
    "genderDF"
   ]
  },
  {
   "cell_type": "markdown",
   "metadata": {},
   "source": [
    "\n",
    "## Purchasing Analysis (Gender)"
   ]
  },
  {
   "cell_type": "markdown",
   "metadata": {},
   "source": [
    "* Run basic calculations to obtain purchase count, avg. purchase price, avg. purchase total per person etc. by gender\n",
    "\n",
    "\n",
    "\n",
    "\n",
    "* Create a summary data frame to hold the results\n",
    "\n",
    "\n",
    "* Optional: give the displayed data cleaner formatting\n",
    "\n",
    "\n",
    "* Display the summary data frame"
   ]
  },
  {
   "cell_type": "code",
   "execution_count": 83,
   "metadata": {},
   "outputs": [
    {
     "output_type": "execute_result",
     "data": {
      "text/plain": "     Purchase ID            SN  Age                 Gender  Item ID  \\\n9              9   Chanosian48   35  Other / Non-Disclosed      136   \n22            22  Siarithria38   38  Other / Non-Disclosed       24   \n82            82    Haerithp41   16  Other / Non-Disclosed      160   \n111          111      Sundim98   21  Other / Non-Disclosed       41   \n228          228   Jiskirran77   20  Other / Non-Disclosed       80   \n237          237     Idairin51   20  Other / Non-Disclosed       16   \n242          242     Eodaisu60   16  Other / Non-Disclosed       39   \n291          291     Idairin51   20  Other / Non-Disclosed       35   \n350          350     Rairith81   15  Other / Non-Disclosed       34   \n401          401      Lirtim36   15  Other / Non-Disclosed       46   \n484          484   Chanosian48   35  Other / Non-Disclosed       39   \n549          549    Maluncil97   25  Other / Non-Disclosed      146   \n629          629    Maluncil97   25  Other / Non-Disclosed      107   \n637          637        Airi27   24  Other / Non-Disclosed      163   \n747          747  Siarithria38   38  Other / Non-Disclosed      146   \n\n                                Item Name  Price  \n9            Ghastly Adamantite Protector  3.58%  \n22                          Warped Fetish  3.81%  \n82                             Azurewrath  4.40%  \n111                                 Orbit  4.75%  \n228                             Dreamsong  3.39%  \n237                       Restored Bauble  3.55%  \n242  Betrayal, Whisper of Grieving Widows  3.94%  \n291              Heartless Bone Dualblade  3.45%  \n350                       Retribution Axe  2.22%  \n401               Hopeless Ebon Dualblade  1.33%  \n484  Betrayal, Whisper of Grieving Widows  3.94%  \n549                  Warped Iron Scimitar  3.10%  \n629             Splitter, Foe Of Subtlety  2.18%  \n637                  Thunderfury Scimitar  3.45%  \n747                  Warped Iron Scimitar  3.10%  ",
      "text/html": "<div>\n<style scoped>\n    .dataframe tbody tr th:only-of-type {\n        vertical-align: middle;\n    }\n\n    .dataframe tbody tr th {\n        vertical-align: top;\n    }\n\n    .dataframe thead th {\n        text-align: right;\n    }\n</style>\n<table border=\"1\" class=\"dataframe\">\n  <thead>\n    <tr style=\"text-align: right;\">\n      <th></th>\n      <th>Purchase ID</th>\n      <th>SN</th>\n      <th>Age</th>\n      <th>Gender</th>\n      <th>Item ID</th>\n      <th>Item Name</th>\n      <th>Price</th>\n    </tr>\n  </thead>\n  <tbody>\n    <tr>\n      <th>9</th>\n      <td>9</td>\n      <td>Chanosian48</td>\n      <td>35</td>\n      <td>Other / Non-Disclosed</td>\n      <td>136</td>\n      <td>Ghastly Adamantite Protector</td>\n      <td>3.58%</td>\n    </tr>\n    <tr>\n      <th>22</th>\n      <td>22</td>\n      <td>Siarithria38</td>\n      <td>38</td>\n      <td>Other / Non-Disclosed</td>\n      <td>24</td>\n      <td>Warped Fetish</td>\n      <td>3.81%</td>\n    </tr>\n    <tr>\n      <th>82</th>\n      <td>82</td>\n      <td>Haerithp41</td>\n      <td>16</td>\n      <td>Other / Non-Disclosed</td>\n      <td>160</td>\n      <td>Azurewrath</td>\n      <td>4.40%</td>\n    </tr>\n    <tr>\n      <th>111</th>\n      <td>111</td>\n      <td>Sundim98</td>\n      <td>21</td>\n      <td>Other / Non-Disclosed</td>\n      <td>41</td>\n      <td>Orbit</td>\n      <td>4.75%</td>\n    </tr>\n    <tr>\n      <th>228</th>\n      <td>228</td>\n      <td>Jiskirran77</td>\n      <td>20</td>\n      <td>Other / Non-Disclosed</td>\n      <td>80</td>\n      <td>Dreamsong</td>\n      <td>3.39%</td>\n    </tr>\n    <tr>\n      <th>237</th>\n      <td>237</td>\n      <td>Idairin51</td>\n      <td>20</td>\n      <td>Other / Non-Disclosed</td>\n      <td>16</td>\n      <td>Restored Bauble</td>\n      <td>3.55%</td>\n    </tr>\n    <tr>\n      <th>242</th>\n      <td>242</td>\n      <td>Eodaisu60</td>\n      <td>16</td>\n      <td>Other / Non-Disclosed</td>\n      <td>39</td>\n      <td>Betrayal, Whisper of Grieving Widows</td>\n      <td>3.94%</td>\n    </tr>\n    <tr>\n      <th>291</th>\n      <td>291</td>\n      <td>Idairin51</td>\n      <td>20</td>\n      <td>Other / Non-Disclosed</td>\n      <td>35</td>\n      <td>Heartless Bone Dualblade</td>\n      <td>3.45%</td>\n    </tr>\n    <tr>\n      <th>350</th>\n      <td>350</td>\n      <td>Rairith81</td>\n      <td>15</td>\n      <td>Other / Non-Disclosed</td>\n      <td>34</td>\n      <td>Retribution Axe</td>\n      <td>2.22%</td>\n    </tr>\n    <tr>\n      <th>401</th>\n      <td>401</td>\n      <td>Lirtim36</td>\n      <td>15</td>\n      <td>Other / Non-Disclosed</td>\n      <td>46</td>\n      <td>Hopeless Ebon Dualblade</td>\n      <td>1.33%</td>\n    </tr>\n    <tr>\n      <th>484</th>\n      <td>484</td>\n      <td>Chanosian48</td>\n      <td>35</td>\n      <td>Other / Non-Disclosed</td>\n      <td>39</td>\n      <td>Betrayal, Whisper of Grieving Widows</td>\n      <td>3.94%</td>\n    </tr>\n    <tr>\n      <th>549</th>\n      <td>549</td>\n      <td>Maluncil97</td>\n      <td>25</td>\n      <td>Other / Non-Disclosed</td>\n      <td>146</td>\n      <td>Warped Iron Scimitar</td>\n      <td>3.10%</td>\n    </tr>\n    <tr>\n      <th>629</th>\n      <td>629</td>\n      <td>Maluncil97</td>\n      <td>25</td>\n      <td>Other / Non-Disclosed</td>\n      <td>107</td>\n      <td>Splitter, Foe Of Subtlety</td>\n      <td>2.18%</td>\n    </tr>\n    <tr>\n      <th>637</th>\n      <td>637</td>\n      <td>Airi27</td>\n      <td>24</td>\n      <td>Other / Non-Disclosed</td>\n      <td>163</td>\n      <td>Thunderfury Scimitar</td>\n      <td>3.45%</td>\n    </tr>\n    <tr>\n      <th>747</th>\n      <td>747</td>\n      <td>Siarithria38</td>\n      <td>38</td>\n      <td>Other / Non-Disclosed</td>\n      <td>146</td>\n      <td>Warped Iron Scimitar</td>\n      <td>3.10%</td>\n    </tr>\n  </tbody>\n</table>\n</div>"
     },
     "metadata": {},
     "execution_count": 83
    }
   ],
   "source": [
    "maleDF = purchase_data.loc[purchase_data[\"Gender\"] == \"Male\",:]\n",
    "femaleDF = purchase_data.loc[purchase_data[\"Gender\"] == \"Female\",:]\n",
    "otherDF = purchase_data.loc[purchase_data[\"Gender\"] == \"Other / Non-Disclosed\",:]\n",
    "\n"
   ]
  },
  {
   "cell_type": "code",
   "execution_count": null,
   "metadata": {},
   "outputs": [],
   "source": []
  },
  {
   "cell_type": "markdown",
   "metadata": {},
   "source": [
    "* Establish bins for ages\n",
    "\n",
    "\n",
    "* Categorize the existing players using the age bins. Hint: use pd.cut()\n",
    "\n",
    "\n",
    "* Calculate the numbers and percentages by age group\n",
    "\n",
    "\n",
    "* Create a summary data frame to hold the results\n",
    "\n",
    "\n",
    "* Optional: round the percentage column to two decimal points\n",
    "\n",
    "\n",
    "* Display Age Demographics Table\n"
   ]
  },
  {
   "cell_type": "code",
   "execution_count": null,
   "metadata": {},
   "outputs": [],
   "source": []
  },
  {
   "cell_type": "markdown",
   "metadata": {},
   "source": [
    "## Purchasing Analysis (Age)"
   ]
  },
  {
   "cell_type": "markdown",
   "metadata": {},
   "source": [
    "* Bin the purchase_data data frame by age\n",
    "\n",
    "\n",
    "* Run basic calculations to obtain purchase count, avg. purchase price, avg. purchase total per person etc. in the table below\n",
    "\n",
    "\n",
    "* Create a summary data frame to hold the results\n",
    "\n",
    "\n",
    "* Optional: give the displayed data cleaner formatting\n",
    "\n",
    "\n",
    "* Display the summary data frame"
   ]
  },
  {
   "cell_type": "code",
   "execution_count": null,
   "metadata": {},
   "outputs": [],
   "source": []
  },
  {
   "cell_type": "markdown",
   "metadata": {},
   "source": [
    "## Top Spenders"
   ]
  },
  {
   "cell_type": "markdown",
   "metadata": {},
   "source": [
    "* Run basic calculations to obtain the results in the table below\n",
    "\n",
    "\n",
    "* Create a summary data frame to hold the results\n",
    "\n",
    "\n",
    "* Sort the total purchase value column in descending order\n",
    "\n",
    "\n",
    "* Optional: give the displayed data cleaner formatting\n",
    "\n",
    "\n",
    "* Display a preview of the summary data frame\n",
    "\n"
   ]
  },
  {
   "cell_type": "code",
   "execution_count": null,
   "metadata": {},
   "outputs": [],
   "source": []
  },
  {
   "cell_type": "markdown",
   "metadata": {},
   "source": [
    "## Most Popular Items"
   ]
  },
  {
   "cell_type": "markdown",
   "metadata": {},
   "source": [
    "* Retrieve the Item ID, Item Name, and Item Price columns\n",
    "\n",
    "\n",
    "* Group by Item ID and Item Name. Perform calculations to obtain purchase count, average item price, and total purchase value\n",
    "\n",
    "\n",
    "* Create a summary data frame to hold the results\n",
    "\n",
    "\n",
    "* Sort the purchase count column in descending order\n",
    "\n",
    "\n",
    "* Optional: give the displayed data cleaner formatting\n",
    "\n",
    "\n",
    "* Display a preview of the summary data frame\n",
    "\n"
   ]
  },
  {
   "cell_type": "code",
   "execution_count": null,
   "metadata": {},
   "outputs": [],
   "source": []
  },
  {
   "cell_type": "markdown",
   "metadata": {},
   "source": [
    "## Most Profitable Items"
   ]
  },
  {
   "cell_type": "markdown",
   "metadata": {},
   "source": [
    "* Sort the above table by total purchase value in descending order\n",
    "\n",
    "\n",
    "* Optional: give the displayed data cleaner formatting\n",
    "\n",
    "\n",
    "* Display a preview of the data frame\n",
    "\n"
   ]
  },
  {
   "cell_type": "code",
   "execution_count": null,
   "metadata": {
    "scrolled": true
   },
   "outputs": [],
   "source": []
  }
 ],
 "metadata": {
  "anaconda-cloud": {},
  "kernel_info": {
   "name": "python3"
  },
  "kernelspec": {
   "display_name": "Python 3",
   "language": "python",
   "name": "python3"
  },
  "language_info": {
   "codemirror_mode": {
    "name": "ipython",
    "version": 3
   },
   "file_extension": ".py",
   "mimetype": "text/x-python",
   "name": "python",
   "nbconvert_exporter": "python",
   "pygments_lexer": "ipython3",
   "version": "3.8.3-final"
  },
  "latex_envs": {
   "LaTeX_envs_menu_present": true,
   "autoclose": false,
   "autocomplete": true,
   "bibliofile": "biblio.bib",
   "cite_by": "apalike",
   "current_citInitial": 1,
   "eqLabelWithNumbers": true,
   "eqNumInitial": 1,
   "hotkeys": {
    "equation": "Ctrl-E",
    "itemize": "Ctrl-I"
   },
   "labels_anchors": false,
   "latex_user_defs": false,
   "report_style_numbering": false,
   "user_envs_cfg": false
  },
  "nteract": {
   "version": "0.2.0"
  }
 },
 "nbformat": 4,
 "nbformat_minor": 2
}