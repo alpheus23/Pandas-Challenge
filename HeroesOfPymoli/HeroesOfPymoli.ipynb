{
 "cells": [
  {
   "cell_type": "markdown",
   "metadata": {},
   "source": [
    "### Note\n",
    "* Instructions have been included for each segment. You do not have to follow them exactly, but they are included to help you think through the steps."
   ]
  },
  {
   "cell_type": "code",
   "execution_count": 2,
   "metadata": {},
   "outputs": [],
   "source": [
    "# Dependencies and Setup\n",
    "import pandas as pd\n",
    "import numpy as np\n",
    "\n",
    "# File to Load (Remember to Change These)\n",
    "file_to_load = \"Resources/purchase_data.csv\"\n",
    "\n",
    "# Read Purchasing File and store into Pandas data frame\n",
    "purchase_data = pd.read_csv(file_to_load)"
   ]
  },
  {
   "cell_type": "markdown",
   "metadata": {},
   "source": [
    "## Player Count"
   ]
  },
  {
   "source": [
    "* Display the total number of players"
   ],
   "cell_type": "markdown",
   "metadata": {}
  },
  {
   "cell_type": "code",
   "execution_count": 4,
   "metadata": {
    "tags": []
   },
   "outputs": [
    {
     "output_type": "execute_result",
     "data": {
      "text/plain": "   Total Players\n0            576",
      "text/html": "<div>\n<style scoped>\n    .dataframe tbody tr th:only-of-type {\n        vertical-align: middle;\n    }\n\n    .dataframe tbody tr th {\n        vertical-align: top;\n    }\n\n    .dataframe thead th {\n        text-align: right;\n    }\n</style>\n<table border=\"1\" class=\"dataframe\">\n  <thead>\n    <tr style=\"text-align: right;\">\n      <th></th>\n      <th>Total Players</th>\n    </tr>\n  </thead>\n  <tbody>\n    <tr>\n      <th>0</th>\n      <td>576</td>\n    </tr>\n  </tbody>\n</table>\n</div>"
     },
     "metadata": {},
     "execution_count": 4
    }
   ],
   "source": [
    "#Calculate the number of unique players from the purchase data csv\n",
    "uniquePlayers = purchase_data[\"SN\"].unique()\n",
    "\n",
    "totalPlayers = len(uniquePlayers)\n",
    "\n",
    "totalPlayersDF = pd.DataFrame([(totalPlayers)], columns=[\"Total Players\"])\n",
    "totalPlayersDF"
   ]
  },
  {
   "source": [
    "## Purchasing Analysis (Total)"
   ],
   "cell_type": "markdown",
   "metadata": {}
  },
  {
   "source": [
    "* Run basic calculations to obtain number of unique items, average price, etc.\n",
    "\n",
    "\n",
    "* Create a summary data frame to hold the results\n",
    "\n",
    "\n",
    "* Optional: give the displayed data cleaner formatting\n",
    "\n",
    "\n",
    "* Display the summary data frame"
   ],
   "cell_type": "markdown",
   "metadata": {}
  },
  {
   "cell_type": "code",
   "execution_count": null,
   "metadata": {
    "scrolled": true
   },
   "outputs": [],
   "source": [
    "#Gather information from the purchase data file and store it into variables\n",
    "uniqueItemsArray = purchase_data[\"Item ID\"].unique()\n",
    "uniqueItems = len(uniqueItemsArray)\n",
    "averagePrice = purchase_data[\"Price\"].mean()\n",
    "totalPurchases = purchase_data[\"Purchase ID\"].count()\n",
    "totalRevenue = purchase_data[\"Price\"].sum()\n",
    "\n",
    "#Create a dictionary to house summary information\n",
    "summaryDicts = [{\"Number of Unique Items\": uniqueItems, \"Average Price of Items\": averagePrice, \"Total                   Number of Purchases\": totalPurchases, \"Total Revenue\": totalRevenue}]\n",
    "\n",
    "#Format floats in dictonary to have $ and two decimals\n",
    "pd.options.display.float_format = \"${:,.2f}\".format\n",
    "\n",
    "#Convert summary information into a dataframe\n",
    "summaryDF = pd.DataFrame(summaryDicts)\n",
    "summaryDF"
   ]
  },
  {
   "cell_type": "markdown",
   "metadata": {},
   "source": [
    "## Gender Demographics"
   ]
  },
  {
   "cell_type": "markdown",
   "metadata": {},
   "source": [
    "* Percentage and Count of Male Players\n",
    "\n",
    "\n",
    "* Percentage and Count of Female Players\n",
    "\n",
    "\n",
    "* Percentage and Count of Other / Non-Disclosed\n",
    "\n",
    "\n"
   ]
  },
  {
   "cell_type": "code",
   "execution_count": null,
   "metadata": {},
   "outputs": [],
   "source": [
    "#Create dataframe to count number of 'Male', 'Female', and 'Other / Non-Disclosed'\n",
    "genderCount = purchase_data[\"Gender\"].value_counts()\n",
    "\n",
    "#Put vales for 'Male', 'Female', and 'Other / Non-Disclosed' into variables \n",
    "maleCount = genderCount[\"Male\"]\n",
    "femaleCount = genderCount[\"Female\"]\n",
    "nonCount = genderCount[\"Other / Non-Disclosed\"]\n",
    "\n",
    "#Calculate percentages of Gender\n",
    "totalCount = maleCount + femaleCount + nonCount\n",
    "\n",
    "malePercent = (maleCount / totalCount) * 100\n",
    "femalePercent = (femaleCount / totalCount) * 100\n",
    "nonPercent = (nonCount / totalCount) * 100\n",
    "\n",
    "#Format floats in dictionary to have % and two decimals\n",
    "pd.options.display.float_format = \"{:,.2f}%\".format\n",
    "\n",
    "#Create data frame\n",
    "genderDF = pd.DataFrame([(maleCount, malePercent), (femaleCount, femalePercent), (nonCount, nonPercent)], columns = ['Count', 'Percentage of Players'], index = ['Male', 'Female', 'Other / Non-Disclosed'])\n",
    "genderDF"
   ]
  },
  {
   "cell_type": "markdown",
   "metadata": {},
   "source": [
    "\n",
    "## Purchasing Analysis (Gender)"
   ]
  },
  {
   "cell_type": "markdown",
   "metadata": {},
   "source": [
    "* Run basic calculations to obtain purchase count, avg. purchase price, avg. purchase total per person etc. by gender\n",
    "\n",
    "\n",
    "\n",
    "\n",
    "* Create a summary data frame to hold the results\n",
    "\n",
    "\n",
    "* Optional: give the displayed data cleaner formatting\n",
    "\n",
    "\n",
    "* Display the summary data frame"
   ]
  },
  {
   "cell_type": "code",
   "execution_count": null,
   "metadata": {},
   "outputs": [],
   "source": [
    "#Create a data frame for the 'Male' gender\n",
    "maleDF = purchase_data.loc[purchase_data[\"Gender\"] == \"Male\", :]\n",
    "\n",
    "#Pull data from 'Male' data frame for later manipulation\n",
    "uniqueMaleArray = maleDF[\"SN\"].unique()\n",
    "uniqueMale = len(uniqueMaleArray)\n",
    "\n",
    "maleAverage = maleDF[\"Price\"].mean()\n",
    "maleTotal = maleDF[\"Price\"].sum()\n",
    "maleTotalAverage = maleTotal / uniqueMale\n",
    "\n",
    "#Create a data frame for the 'Female' gender\n",
    "femaleDF = purchase_data.loc[purchase_data[\"Gender\"] == \"Female\", :]\n",
    "\n",
    "#Pull data from 'Female' data frame for later manipulation\n",
    "uniqueFemaleArray = femaleDF[\"SN\"].unique()\n",
    "uniqueFemale = len(uniqueFemaleArray)\n",
    "\n",
    "femaleAverage = femaleDF[\"Price\"].mean()\n",
    "femaleTotal = femaleDF[\"Price\"].sum()\n",
    "femaleTotalAverage = femaleTotal / uniqueFemale\n",
    "\n",
    "#Create a data frame for the 'Other / Non-Disclosed' gender\n",
    "nonDF = purchase_data.loc[purchase_data[\"Gender\"] == \"Other / Non-Disclosed\", :]\n",
    "\n",
    "#Pull data from 'Other / Non-Disclosed' data frame for later manipulation\n",
    "uniqueNonArray = nonDF[\"SN\"].unique()\n",
    "uniqueNon = len(uniqueNonArray)\n",
    "\n",
    "nonAverage = nonDF[\"Price\"].mean()\n",
    "nonTotal = nonDF[\"Price\"].sum()\n",
    "nonTotalAverage = nonTotal / uniqueNon\n",
    "\n",
    "#Change formatting of floats to show in $ with 2 decimal places\n",
    "pd.options.display.float_format = \"${:,.2f}\".format\n",
    "\n",
    "#Create new data frame by combining values calculated above\n",
    "genderAnalysisDF = pd.DataFrame([(maleCount, maleAverage, maleTotal, maleTotalAverage), \n",
    "                                 (femaleCount, femaleAverage, femaleTotal, femaleTotalAverage),\n",
    "                                 (nonCount, nonAverage, nonTotal, nonTotalAverage)],\n",
    "                                 columns = [\"Purchase Count\", \"Avg Purchase Price\", \"Total Purchse                                                                     Price\", \"Avg Total Purchase Per Person\"], index = ['Male', 'Female', 'Other / Non-Disclosed'])\n",
    "genderAnalysisDF"
   ]
  },
  {
   "source": [
    "## Age Demographics"
   ],
   "cell_type": "markdown",
   "metadata": {
    "tags": []
   }
  },
  {
   "source": [
    "* Establish bins for ages\n",
    "\n",
    "\n",
    "* Categorize the existing players using the age bins. Hint: use pd.cut()\n",
    "\n",
    "\n",
    "* Calculate the numbers and percentages by age group\n",
    "\n",
    "\n",
    "* Create a summary data frame to hold the results\n",
    "\n",
    "\n",
    "* Optional: round the percentage column to two decimal points\n",
    "\n",
    "\n",
    "* Display Age Demographics Table\n"
   ],
   "cell_type": "markdown",
   "metadata": {}
  },
  {
   "cell_type": "code",
   "execution_count": null,
   "metadata": {},
   "outputs": [],
   "source": [
    "#Create data frame for ages less than 10\n",
    "below10DF = purchase_data.loc[purchase_data[\"Age\"] <= 9, :]\n",
    "\n",
    "#Find number of users under age 10\n",
    "below10Unique = below10DF[\"SN\"].unique()\n",
    "below10Count = len(below10Unique)\n",
    "\n",
    "\n",
    "#Create data frame for ages 10 to 14\n",
    "tenTo14DF = purchase_data.loc[((purchase_data[\"Age\"] >= 10) & (purchase_data[\"Age\"] <= 14)), :]\n",
    "\n",
    "#Find number of users ages 10 to 14\n",
    "tenTo14Unique = tenTo14DF[\"SN\"].unique()\n",
    "tenTo14Count = len(tenTo14Unique)\n",
    "\n",
    "\n",
    "#Create data frame for ages 15 to 19\n",
    "fifteenTo19DF = purchase_data.loc[((purchase_data[\"Age\"] >= 15) & (purchase_data[\"Age\"] <= 19)), :]\n",
    "\n",
    "#Find number of users for ages 15 to 19\n",
    "fifteenTo19Unique = fifteenTo19DF[\"SN\"].unique()\n",
    "fifteenTo19Count = len(fifteenTo19Unique)\n",
    "\n",
    "\n",
    "#Create data frame for ages 20 to 24\n",
    "twentyTo24DF = purchase_data.loc[((purchase_data[\"Age\"] >= 20) & (purchase_data[\"Age\"] <= 24)), :]\n",
    "\n",
    "#Find number of users for ages 20 to 24\n",
    "twentyTo24Unique = twentyTo24DF[\"SN\"].unique()\n",
    "twentyTo24Count = len(twentyTo24Unique)\n",
    "\n",
    "\n",
    "#Create data frame for ages 25 to 29\n",
    "twenty5To29DF = purchase_data.loc[((purchase_data[\"Age\"] >= 25) & (purchase_data[\"Age\"] <= 29)), :]\n",
    "\n",
    "#Find number of users ages 25 to 29\n",
    "twenty5To29Unique = twenty5To29DF[\"SN\"].unique()\n",
    "twenty5To29Count = len(twenty5To29Unique)\n",
    "\n",
    "\n",
    "#Create data frame for ages 30 to 34\n",
    "thirtyTo34DF = purchase_data.loc[((purchase_data[\"Age\"] >= 30) & (purchase_data[\"Age\"] <= 34)), :]\n",
    "\n",
    "#Find number of users for ages 30 to 34\n",
    "thirtyTo34Unique = thirtyTo34DF[\"SN\"].unique()\n",
    "thirtyTo34Count = len(thirtyTo34Unique)\n",
    "\n",
    "\n",
    "#Create data frame for ages 35 to 39\n",
    "thirty5To39DF = purchase_data.loc[((purchase_data[\"Age\"] >= 35) & (purchase_data[\"Age\"] <= 39)), :]\n",
    "\n",
    "#Find number of users for ages 35 to 39\n",
    "thirty5To39Unique = thirty5To39DF[\"SN\"].unique()\n",
    "thirty5To39Count = len(thirty5To39Unique)\n",
    "\n",
    "\n",
    "#Create data frame for ages 40+\n",
    "over40DF = purchase_data.loc[purchase_data[\"Age\"] >= 40, :]\n",
    "\n",
    "#Find number of users for ages 40+\n",
    "over40Unique = over40DF[\"SN\"].unique()\n",
    "over40Count = len(over40Unique)\n",
    "\n",
    "\n",
    "#Calculate percentages of each age group\n",
    "totalAgeCount = below10Count + tenTo14Count + fifteenTo19Count + twentyTo24Count + twenty5To29Count + thirtyTo34Count +           thirty5To39Count + over40Count\n",
    "\n",
    "group1Percent = (below10Count / totalAgeCount) * 100\n",
    "group2Percent = (tenTo14Count / totalAgeCount) * 100\n",
    "group3Percent = (fifteenTo19Count / totalAgeCount) * 100\n",
    "group4Percent = (twentyTo24Count / totalAgeCount) * 100\n",
    "group5Percent = (twenty5To29Count / totalAgeCount) * 100\n",
    "group6Percent = (thirtyTo34Count / totalAgeCount) * 100\n",
    "group7Percent = (thirty5To39Count / totalAgeCount) * 100\n",
    "group8Percent = (over40Count / totalAgeCount) * 100\n",
    "\n",
    "\n",
    "#Format floats in dictionary to have % and two decimals\n",
    "pd.options.display.float_format = \"{:,.2f}%\".format\n",
    "\n",
    "\n",
    "#Create data frame\n",
    "ageDemoDF = pd.DataFrame([(below10Count, group1Percent), (tenTo14Count, group2Percent), (fifteenTo19Count, group3Percent), (twentyTo24Count, group4Percent), (twenty5To29Count, group5Percent), (thirtyTo34Count, group6Percent), (thirty5To39Count, group7Percent), (over40Count, group8Percent)], columns = [\"Total Count\", \"Percentage of Players\"], index = [\"<10\", \"10-14\", \"15-19\", \"20-24\", \"25-29\", \"30-34\", \"35-39\", \"40+\"])\n",
    "ageDemoDF"
   ]
  },
  {
   "cell_type": "markdown",
   "metadata": {},
   "source": [
    "## Purchasing Analysis (Age)"
   ]
  },
  {
   "cell_type": "markdown",
   "metadata": {},
   "source": [
    "* Bin the purchase_data data frame by age\n",
    "\n",
    "\n",
    "* Run basic calculations to obtain purchase count, avg. purchase price, avg. purchase total per person etc. in the table below\n",
    "\n",
    "\n",
    "* Create a summary data frame to hold the results\n",
    "\n",
    "\n",
    "* Optional: give the displayed data cleaner formatting\n",
    "\n",
    "\n",
    "* Display the summary data frame"
   ]
  },
  {
   "cell_type": "code",
   "execution_count": null,
   "metadata": {},
   "outputs": [],
   "source": [
    "#Pull data from below 10 data frame for later manipulation\n",
    "below10Purchase = len(below10DF[\"SN\"])\n",
    "below10Average = below10DF[\"Price\"].mean()\n",
    "below10Total = below10DF[\"Price\"].sum()\n",
    "below10TotalAverage = below10Total / below10Count\n",
    "\n",
    "#Pull data from 10 to 14 data frame for later manipulation\n",
    "tenTo14Purchase = len(tenTo14DF[\"SN\"])\n",
    "tenTo14Average = tenTo14DF[\"Price\"].mean()\n",
    "tenTo14Total = tenTo14DF[\"Price\"].sum()\n",
    "tenTo14TotalAverage = tenTo14Total / tenTo14Count\n",
    "\n",
    "# #Pull data from 15 to 19 data frame for later manipulation\n",
    "fifteenTo19Purchase = len(fifteenTo19DF[\"SN\"])\n",
    "fifteenTo19Average = fifteenTo19DF[\"Price\"].mean()\n",
    "fifteenTo19Total = fifteenTo19DF[\"Price\"].sum()\n",
    "fifteenTo19TotalAverage = fifteenTo19Total / fifteenTo19Count\n",
    "\n",
    "# #Pull data from 20 to 24 data frame for later manipulation\n",
    "twentyTo24Purchase = len(twentyTo24DF[\"SN\"])\n",
    "twentyTo24Average = twentyTo24DF[\"Price\"].mean()\n",
    "twentyTo24Total = twentyTo24DF[\"Price\"].sum()\n",
    "twentyTo24TotalAverage = twentyTo24Total / twentyTo24Count\n",
    "\n",
    "# #Pull data from 25 to 29 data frame for later manipulation\n",
    "twenty5To29Purchase = len(twenty5To29DF[\"SN\"])\n",
    "twenty5To29Average = twenty5To29DF[\"Price\"].mean()\n",
    "twenty5To29Total = twenty5To29DF[\"Price\"].sum()\n",
    "twenty5To29TotalAverage = twenty5To29Total / twenty5To29Count\n",
    "\n",
    "# #Pull data from 30 to 34 data frame for later manipulation\n",
    "thirtyTo34Purchase = len(thirtyTo34DF[\"SN\"])\n",
    "thirtyTo34Average = thirtyTo34DF[\"Price\"].mean()\n",
    "thirtyTo34Total = thirtyTo34DF[\"Price\"].sum()\n",
    "thirtyTo34TotalAverage = thirtyTo34Total / thirtyTo34Count\n",
    "\n",
    "# #Pull data from 35 to 39 data frame for later manipulation\n",
    "thirty5To39Purchase = len(thirty5To39DF[\"SN\"])\n",
    "thirty5To39Average = thirty5To39DF[\"Price\"].mean()\n",
    "thirty5To39Total = thirty5To39DF[\"Price\"].sum()\n",
    "thirty5To39TotalAverage = thirty5To39Total / thirty5To39Count\n",
    "\n",
    "# #Pull data from 40+ data frame for later manipulation\n",
    "over40Purchase = len(over40DF[\"SN\"])\n",
    "over40Average = over40DF[\"Price\"].mean()\n",
    "over40Total = over40DF[\"Price\"].sum()\n",
    "over40TotalAverage = over40Total / over40Count\n",
    "\n",
    "#Change formatting of floats to show in $ with 2 decimal places\n",
    "pd.options.display.float_format = \"${:,.2f}\".format\n",
    "\n",
    "#Create summary data frame\n",
    "ageAnalysisDF = pd.DataFrame([(below10Purchase, below10Average, below10Total, below10TotalAverage),\n",
    "                (tenTo14Purchase, tenTo14Average, tenTo14Total, tenTo14TotalAverage),\n",
    "                (fifteenTo19Purchase, fifteenTo19Average, fifteenTo19Total, fifteenTo19TotalAverage),\n",
    "                (twentyTo24Purchase, twentyTo24Average, twentyTo24Total, twentyTo24TotalAverage),\n",
    "                (twenty5To29Purchase, twenty5To29Average, twenty5To29Total, twenty5To29TotalAverage),\n",
    "                (thirtyTo34Purchase, thirtyTo34Average, thirtyTo34Total, thirtyTo34TotalAverage),\n",
    "                (thirty5To39Purchase, thirty5To39Average, thirty5To39Total, thirty5To39TotalAverage),\n",
    "                (over40Purchase, over40Average, over40Total, over40TotalAverage)],\n",
    "                columns = [\"Purchase Count\", \"Avg Purchase Price\", \"Total Purchse Price\", \"Avg Total Purchase Per Person\"], index =                   [\"<10\", \"10-14\", \"15-19\", \"20-24\", \"25-29\", \"30-34\", \"35-39\", \"40+\"])\n",
    "ageAnalysisDF"
   ]
  },
  {
   "cell_type": "markdown",
   "metadata": {},
   "source": [
    "## Top Spenders"
   ]
  },
  {
   "cell_type": "markdown",
   "metadata": {},
   "source": [
    "* Run basic calculations to obtain the results in the table below\n",
    "\n",
    "\n",
    "* Create a summary data frame to hold the results\n",
    "\n",
    "\n",
    "* Sort the total purchase value column in descending order\n",
    "\n",
    "\n",
    "* Optional: give the displayed data cleaner formatting\n",
    "\n",
    "\n",
    "* Display a preview of the summary data frame\n",
    "\n"
   ]
  },
  {
   "cell_type": "code",
   "execution_count": null,
   "metadata": {},
   "outputs": [],
   "source": []
  },
  {
   "cell_type": "markdown",
   "metadata": {},
   "source": [
    "## Most Popular Items"
   ]
  },
  {
   "cell_type": "markdown",
   "metadata": {},
   "source": [
    "* Retrieve the Item ID, Item Name, and Item Price columns\n",
    "\n",
    "\n",
    "* Group by Item ID and Item Name. Perform calculations to obtain purchase count, average item price, and total purchase value\n",
    "\n",
    "\n",
    "* Create a summary data frame to hold the results\n",
    "\n",
    "\n",
    "* Sort the purchase count column in descending order\n",
    "\n",
    "\n",
    "* Optional: give the displayed data cleaner formatting\n",
    "\n",
    "\n",
    "* Display a preview of the summary data frame\n",
    "\n"
   ]
  },
  {
   "cell_type": "code",
   "execution_count": null,
   "metadata": {},
   "outputs": [],
   "source": []
  },
  {
   "cell_type": "markdown",
   "metadata": {},
   "source": [
    "## Most Profitable Items"
   ]
  },
  {
   "cell_type": "markdown",
   "metadata": {},
   "source": [
    "* Sort the above table by total purchase value in descending order\n",
    "\n",
    "\n",
    "* Optional: give the displayed data cleaner formatting\n",
    "\n",
    "\n",
    "* Display a preview of the data frame\n",
    "\n"
   ]
  },
  {
   "cell_type": "code",
   "execution_count": null,
   "metadata": {
    "scrolled": true
   },
   "outputs": [],
   "source": []
  }
 ],
 "metadata": {
  "anaconda-cloud": {},
  "kernel_info": {
   "name": "python3"
  },
  "kernelspec": {
   "display_name": "Python 3",
   "language": "python",
   "name": "python3"
  },
  "language_info": {
   "codemirror_mode": {
    "name": "ipython",
    "version": 3
   },
   "file_extension": ".py",
   "mimetype": "text/x-python",
   "name": "python",
   "nbconvert_exporter": "python",
   "pygments_lexer": "ipython3",
   "version": "3.8.3-final"
  },
  "latex_envs": {
   "LaTeX_envs_menu_present": true,
   "autoclose": false,
   "autocomplete": true,
   "bibliofile": "biblio.bib",
   "cite_by": "apalike",
   "current_citInitial": 1,
   "eqLabelWithNumbers": true,
   "eqNumInitial": 1,
   "hotkeys": {
    "equation": "Ctrl-E",
    "itemize": "Ctrl-I"
   },
   "labels_anchors": false,
   "latex_user_defs": false,
   "report_style_numbering": false,
   "user_envs_cfg": false
  },
  "nteract": {
   "version": "0.2.0"
  }
 },
 "nbformat": 4,
 "nbformat_minor": 2
}