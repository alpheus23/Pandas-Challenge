{
 "cells": [
  {
   "cell_type": "markdown",
   "metadata": {},
   "source": [
    "### Note\n",
    "* Instructions have been included for each segment. You do not have to follow them exactly, but they are included to help you think through the steps."
   ]
  },
  {
   "cell_type": "code",
   "execution_count": 2,
   "metadata": {},
   "outputs": [],
   "source": [
    "# Dependencies and Setup\n",
    "import pandas as pd\n",
    "import numpy as np\n",
    "\n",
    "# File to Load (Remember to Change These)\n",
    "file_to_load = \"Resources/purchase_data.csv\"\n",
    "\n",
    "# Read Purchasing File and store into Pandas data frame\n",
    "purchase_data = pd.read_csv(file_to_load)"
   ]
  },
  {
   "cell_type": "markdown",
   "metadata": {},
   "source": [
    "## Player Count"
   ]
  },
  {
   "source": [
    "* Display the total number of players"
   ],
   "cell_type": "markdown",
   "metadata": {}
  },
  {
   "cell_type": "code",
   "execution_count": 4,
   "metadata": {
    "tags": []
   },
   "outputs": [
    {
     "output_type": "execute_result",
     "data": {
      "text/plain": "   Total Players\n0            576",
      "text/html": "<div>\n<style scoped>\n    .dataframe tbody tr th:only-of-type {\n        vertical-align: middle;\n    }\n\n    .dataframe tbody tr th {\n        vertical-align: top;\n    }\n\n    .dataframe thead th {\n        text-align: right;\n    }\n</style>\n<table border=\"1\" class=\"dataframe\">\n  <thead>\n    <tr style=\"text-align: right;\">\n      <th></th>\n      <th>Total Players</th>\n    </tr>\n  </thead>\n  <tbody>\n    <tr>\n      <th>0</th>\n      <td>576</td>\n    </tr>\n  </tbody>\n</table>\n</div>"
     },
     "metadata": {},
     "execution_count": 4
    }
   ],
   "source": [
    "#Calculate the number of unique players from the purchase data csv\n",
    "uniquePlayers = purchase_data[\"SN\"].unique()\n",
    "\n",
    "totalPlayers = len(uniquePlayers)\n",
    "\n",
    "totalPlayersDF = pd.DataFrame([(totalPlayers)], columns=[\"Total Players\"])\n",
    "totalPlayersDF"
   ]
  },
  {
   "source": [
    "## Purchasing Analysis (Total)"
   ],
   "cell_type": "markdown",
   "metadata": {}
  },
  {
   "source": [
    "* Run basic calculations to obtain number of unique items, average price, etc.\n",
    "\n",
    "\n",
    "* Create a summary data frame to hold the results\n",
    "\n",
    "\n",
    "* Optional: give the displayed data cleaner formatting\n",
    "\n",
    "\n",
    "* Display the summary data frame"
   ],
   "cell_type": "markdown",
   "metadata": {}
  },
  {
   "cell_type": "code",
   "execution_count": 5,
   "metadata": {
    "scrolled": true
   },
   "outputs": [
    {
     "output_type": "execute_result",
     "data": {
      "text/plain": "   Number of Unique Items  Average Price of Items  \\\n0                     179                   $3.05   \n\n   Total                   Number of Purchases  Total Revenue  \n0                                          780      $2,379.77  ",
      "text/html": "<div>\n<style scoped>\n    .dataframe tbody tr th:only-of-type {\n        vertical-align: middle;\n    }\n\n    .dataframe tbody tr th {\n        vertical-align: top;\n    }\n\n    .dataframe thead th {\n        text-align: right;\n    }\n</style>\n<table border=\"1\" class=\"dataframe\">\n  <thead>\n    <tr style=\"text-align: right;\">\n      <th></th>\n      <th>Number of Unique Items</th>\n      <th>Average Price of Items</th>\n      <th>Total                   Number of Purchases</th>\n      <th>Total Revenue</th>\n    </tr>\n  </thead>\n  <tbody>\n    <tr>\n      <th>0</th>\n      <td>179</td>\n      <td>$3.05</td>\n      <td>780</td>\n      <td>$2,379.77</td>\n    </tr>\n  </tbody>\n</table>\n</div>"
     },
     "metadata": {},
     "execution_count": 5
    }
   ],
   "source": [
    "#Gather information from the purchase data file and store it into variables\n",
    "uniqueItemsArray = purchase_data[\"Item ID\"].unique()\n",
    "uniqueItems = len(uniqueItemsArray)\n",
    "averagePrice = purchase_data[\"Price\"].mean()\n",
    "totalPurchases = purchase_data[\"Purchase ID\"].count()\n",
    "totalRevenue = purchase_data[\"Price\"].sum()\n",
    "\n",
    "#Create a dictionary to house summary information\n",
    "summaryDicts = [{\"Number of Unique Items\": uniqueItems, \"Average Price of Items\": averagePrice, \"Total                   Number of Purchases\": totalPurchases, \"Total Revenue\": totalRevenue}]\n",
    "\n",
    "#Format floats in dictonary to have $ and two decimals\n",
    "pd.options.display.float_format = \"${:,.2f}\".format\n",
    "\n",
    "#Convert summary information into a dataframe\n",
    "summaryDF = pd.DataFrame(summaryDicts)\n",
    "summaryDF"
   ]
  },
  {
   "cell_type": "markdown",
   "metadata": {},
   "source": [
    "## Gender Demographics"
   ]
  },
  {
   "cell_type": "markdown",
   "metadata": {},
   "source": [
    "* Percentage and Count of Male Players\n",
    "\n",
    "\n",
    "* Percentage and Count of Female Players\n",
    "\n",
    "\n",
    "* Percentage and Count of Other / Non-Disclosed\n",
    "\n",
    "\n"
   ]
  },
  {
   "cell_type": "code",
   "execution_count": 6,
   "metadata": {},
   "outputs": [
    {
     "output_type": "execute_result",
     "data": {
      "text/plain": "                       Count  Percentage of Players\nMale                     652                 83.59%\nFemale                   113                 14.49%\nOther / Non-Disclosed     15                  1.92%",
      "text/html": "<div>\n<style scoped>\n    .dataframe tbody tr th:only-of-type {\n        vertical-align: middle;\n    }\n\n    .dataframe tbody tr th {\n        vertical-align: top;\n    }\n\n    .dataframe thead th {\n        text-align: right;\n    }\n</style>\n<table border=\"1\" class=\"dataframe\">\n  <thead>\n    <tr style=\"text-align: right;\">\n      <th></th>\n      <th>Count</th>\n      <th>Percentage of Players</th>\n    </tr>\n  </thead>\n  <tbody>\n    <tr>\n      <th>Male</th>\n      <td>652</td>\n      <td>83.59%</td>\n    </tr>\n    <tr>\n      <th>Female</th>\n      <td>113</td>\n      <td>14.49%</td>\n    </tr>\n    <tr>\n      <th>Other / Non-Disclosed</th>\n      <td>15</td>\n      <td>1.92%</td>\n    </tr>\n  </tbody>\n</table>\n</div>"
     },
     "metadata": {},
     "execution_count": 6
    }
   ],
   "source": [
    "#Create dataframe to count number of 'Male', 'Female', and 'Other / Non-Disclosed'\n",
    "genderCount = purchase_data[\"Gender\"].value_counts()\n",
    "\n",
    "#Put vales for 'Male', 'Female', and 'Other / Non-Disclosed' into variables \n",
    "maleCount = genderCount[\"Male\"]\n",
    "femaleCount = genderCount[\"Female\"]\n",
    "nonCount = genderCount[\"Other / Non-Disclosed\"]\n",
    "\n",
    "#Calculate percentages of Gender\n",
    "totalCount = maleCount + femaleCount + nonCount\n",
    "\n",
    "malePercent = (maleCount / totalCount) * 100\n",
    "femalePercent = (femaleCount / totalCount) * 100\n",
    "nonPercent = (nonCount / totalCount) * 100\n",
    "\n",
    "#Format floats in dictionary to have % and two decimals\n",
    "pd.options.display.float_format = \"{:,.2f}%\".format\n",
    "\n",
    "#Create data frame\n",
    "genderDF = pd.DataFrame([(maleCount, malePercent), (femaleCount, femalePercent), (nonCount, nonPercent)], columns = ['Count', 'Percentage of Players'], index = ['Male', 'Female', 'Other / Non-Disclosed'])\n",
    "genderDF"
   ]
  },
  {
   "cell_type": "markdown",
   "metadata": {},
   "source": [
    "\n",
    "## Purchasing Analysis (Gender)"
   ]
  },
  {
   "cell_type": "markdown",
   "metadata": {},
   "source": [
    "* Run basic calculations to obtain purchase count, avg. purchase price, avg. purchase total per person etc. by gender\n",
    "\n",
    "\n",
    "\n",
    "\n",
    "* Create a summary data frame to hold the results\n",
    "\n",
    "\n",
    "* Optional: give the displayed data cleaner formatting\n",
    "\n",
    "\n",
    "* Display the summary data frame"
   ]
  },
  {
   "cell_type": "code",
   "execution_count": 7,
   "metadata": {},
   "outputs": [
    {
     "output_type": "execute_result",
     "data": {
      "text/plain": "                       Purchase Count  Avg Purchase Price  \\\nMale                              652               $3.02   \nFemale                            113               $3.20   \nOther / Non-Disclosed              15               $3.35   \n\n                       Total Purchse                                                                     Price  \\\nMale                                                           $1,967.64                                         \nFemale                                                           $361.94                                         \nOther / Non-Disclosed                                             $50.19                                         \n\n                       Avg Total Purchase Per Person  \nMale                                           $4.07  \nFemale                                         $4.47  \nOther / Non-Disclosed                          $4.56  ",
      "text/html": "<div>\n<style scoped>\n    .dataframe tbody tr th:only-of-type {\n        vertical-align: middle;\n    }\n\n    .dataframe tbody tr th {\n        vertical-align: top;\n    }\n\n    .dataframe thead th {\n        text-align: right;\n    }\n</style>\n<table border=\"1\" class=\"dataframe\">\n  <thead>\n    <tr style=\"text-align: right;\">\n      <th></th>\n      <th>Purchase Count</th>\n      <th>Avg Purchase Price</th>\n      <th>Total Purchse                                                                     Price</th>\n      <th>Avg Total Purchase Per Person</th>\n    </tr>\n  </thead>\n  <tbody>\n    <tr>\n      <th>Male</th>\n      <td>652</td>\n      <td>$3.02</td>\n      <td>$1,967.64</td>\n      <td>$4.07</td>\n    </tr>\n    <tr>\n      <th>Female</th>\n      <td>113</td>\n      <td>$3.20</td>\n      <td>$361.94</td>\n      <td>$4.47</td>\n    </tr>\n    <tr>\n      <th>Other / Non-Disclosed</th>\n      <td>15</td>\n      <td>$3.35</td>\n      <td>$50.19</td>\n      <td>$4.56</td>\n    </tr>\n  </tbody>\n</table>\n</div>"
     },
     "metadata": {},
     "execution_count": 7
    }
   ],
   "source": [
    "#Create a data frame for the 'Male' gender\n",
    "maleDF = purchase_data.loc[purchase_data[\"Gender\"] == \"Male\", :]\n",
    "\n",
    "#Pull data from 'Male' data frame for later manipulation\n",
    "uniqueMaleArray = maleDF[\"SN\"].unique()\n",
    "uniqueMale = len(uniqueMaleArray)\n",
    "\n",
    "maleAverage = maleDF[\"Price\"].mean()\n",
    "maleTotal = maleDF[\"Price\"].sum()\n",
    "maleTotalAverage = maleTotal / uniqueMale\n",
    "\n",
    "#Create a data frame for the 'Female' gender\n",
    "femaleDF = purchase_data.loc[purchase_data[\"Gender\"] == \"Female\", :]\n",
    "\n",
    "#Pull data from 'Female' data frame for later manipulation\n",
    "uniqueFemaleArray = femaleDF[\"SN\"].unique()\n",
    "uniqueFemale = len(uniqueFemaleArray)\n",
    "\n",
    "femaleAverage = femaleDF[\"Price\"].mean()\n",
    "femaleTotal = femaleDF[\"Price\"].sum()\n",
    "femaleTotalAverage = femaleTotal / uniqueFemale\n",
    "\n",
    "#Create a data frame for the 'Other / Non-Disclosed' gender\n",
    "nonDF = purchase_data.loc[purchase_data[\"Gender\"] == \"Other / Non-Disclosed\", :]\n",
    "\n",
    "#Pull data from 'Other / Non-Disclosed' data frame for later manipulation\n",
    "uniqueNonArray = nonDF[\"SN\"].unique()\n",
    "uniqueNon = len(uniqueNonArray)\n",
    "\n",
    "nonAverage = nonDF[\"Price\"].mean()\n",
    "nonTotal = nonDF[\"Price\"].sum()\n",
    "nonTotalAverage = nonTotal / uniqueNon\n",
    "\n",
    "#Change formatting of floats to show in $ with 2 decimal places\n",
    "pd.options.display.float_format = \"${:,.2f}\".format\n",
    "\n",
    "#Create new data frame by combining values calculated above\n",
    "genderAnalysisDF = pd.DataFrame([(maleCount, maleAverage, maleTotal, maleTotalAverage), \n",
    "                                 (femaleCount, femaleAverage, femaleTotal, femaleTotalAverage),\n",
    "                                 (nonCount, nonAverage, nonTotal, nonTotalAverage)],\n",
    "                                 columns = [\"Purchase Count\", \"Avg Purchase Price\", \"Total Purchse                                                                     Price\", \"Avg Total Purchase Per Person\"], index = ['Male', 'Female', 'Other / Non-Disclosed'])\n",
    "genderAnalysisDF"
   ]
  },
  {
   "source": [
    "## Age Demographics"
   ],
   "cell_type": "markdown",
   "metadata": {
    "tags": []
   }
  },
  {
   "source": [
    "* Establish bins for ages\n",
    "\n",
    "\n",
    "* Categorize the existing players using the age bins. Hint: use pd.cut()\n",
    "\n",
    "\n",
    "* Calculate the numbers and percentages by age group\n",
    "\n",
    "\n",
    "* Create a summary data frame to hold the results\n",
    "\n",
    "\n",
    "* Optional: round the percentage column to two decimal points\n",
    "\n",
    "\n",
    "* Display Age Demographics Table\n"
   ],
   "cell_type": "markdown",
   "metadata": {}
  },
  {
   "cell_type": "code",
   "execution_count": 8,
   "metadata": {},
   "outputs": [
    {
     "output_type": "execute_result",
     "data": {
      "text/plain": "       Total Count  Percentage of Players\n&lt;10             17                  2.95%\n10-14           22                  3.82%\n15-19          107                 18.58%\n20-24          258                 44.79%\n25-29           77                 13.37%\n30-34           52                  9.03%\n35-39           31                  5.38%\n40+             12                  2.08%",
      "text/html": "<div>\n<style scoped>\n    .dataframe tbody tr th:only-of-type {\n        vertical-align: middle;\n    }\n\n    .dataframe tbody tr th {\n        vertical-align: top;\n    }\n\n    .dataframe thead th {\n        text-align: right;\n    }\n</style>\n<table border=\"1\" class=\"dataframe\">\n  <thead>\n    <tr style=\"text-align: right;\">\n      <th></th>\n      <th>Total Count</th>\n      <th>Percentage of Players</th>\n    </tr>\n  </thead>\n  <tbody>\n    <tr>\n      <th>&lt;10</th>\n      <td>17</td>\n      <td>2.95%</td>\n    </tr>\n    <tr>\n      <th>10-14</th>\n      <td>22</td>\n      <td>3.82%</td>\n    </tr>\n    <tr>\n      <th>15-19</th>\n      <td>107</td>\n      <td>18.58%</td>\n    </tr>\n    <tr>\n      <th>20-24</th>\n      <td>258</td>\n      <td>44.79%</td>\n    </tr>\n    <tr>\n      <th>25-29</th>\n      <td>77</td>\n      <td>13.37%</td>\n    </tr>\n    <tr>\n      <th>30-34</th>\n      <td>52</td>\n      <td>9.03%</td>\n    </tr>\n    <tr>\n      <th>35-39</th>\n      <td>31</td>\n      <td>5.38%</td>\n    </tr>\n    <tr>\n      <th>40+</th>\n      <td>12</td>\n      <td>2.08%</td>\n    </tr>\n  </tbody>\n</table>\n</div>"
     },
     "metadata": {},
     "execution_count": 8
    }
   ],
   "source": [
    "#Create data frame for ages less than 10\n",
    "below10DF = purchase_data.loc[purchase_data[\"Age\"] <= 9, :]\n",
    "\n",
    "#Find number of users under age 10\n",
    "below10Unique = below10DF[\"SN\"].unique()\n",
    "below10Count = len(below10Unique)\n",
    "\n",
    "\n",
    "#Create data frame for ages 10 to 14\n",
    "tenTo14DF = purchase_data.loc[((purchase_data[\"Age\"] >= 10) & (purchase_data[\"Age\"] <= 14)), :]\n",
    "\n",
    "#Find number of users ages 10 to 14\n",
    "tenTo14Unique = tenTo14DF[\"SN\"].unique()\n",
    "tenTo14Count = len(tenTo14Unique)\n",
    "\n",
    "\n",
    "#Create data frame for ages 15 to 19\n",
    "fifteenTo19DF = purchase_data.loc[((purchase_data[\"Age\"] >= 15) & (purchase_data[\"Age\"] <= 19)), :]\n",
    "\n",
    "#Find number of users for ages 15 to 19\n",
    "fifteenTo19Unique = fifteenTo19DF[\"SN\"].unique()\n",
    "fifteenTo19Count = len(fifteenTo19Unique)\n",
    "\n",
    "\n",
    "#Create data frame for ages 20 to 24\n",
    "twentyTo24DF = purchase_data.loc[((purchase_data[\"Age\"] >= 20) & (purchase_data[\"Age\"] <= 24)), :]\n",
    "\n",
    "#Find number of users for ages 20 to 24\n",
    "twentyTo24Unique = twentyTo24DF[\"SN\"].unique()\n",
    "twentyTo24Count = len(twentyTo24Unique)\n",
    "\n",
    "\n",
    "#Create data frame for ages 25 to 29\n",
    "twenty5To29DF = purchase_data.loc[((purchase_data[\"Age\"] >= 25) & (purchase_data[\"Age\"] <= 29)), :]\n",
    "\n",
    "#Find number of users ages 25 to 29\n",
    "twenty5To29Unique = twenty5To29DF[\"SN\"].unique()\n",
    "twenty5To29Count = len(twenty5To29Unique)\n",
    "\n",
    "\n",
    "#Create data frame for ages 30 to 34\n",
    "thirtyTo34DF = purchase_data.loc[((purchase_data[\"Age\"] >= 30) & (purchase_data[\"Age\"] <= 34)), :]\n",
    "\n",
    "#Find number of users for ages 30 to 34\n",
    "thirtyTo34Unique = thirtyTo34DF[\"SN\"].unique()\n",
    "thirtyTo34Count = len(thirtyTo34Unique)\n",
    "\n",
    "\n",
    "#Create data frame for ages 35 to 39\n",
    "thirty5To39DF = purchase_data.loc[((purchase_data[\"Age\"] >= 35) & (purchase_data[\"Age\"] <= 39)), :]\n",
    "\n",
    "#Find number of users for ages 35 to 39\n",
    "thirty5To39Unique = thirty5To39DF[\"SN\"].unique()\n",
    "thirty5To39Count = len(thirty5To39Unique)\n",
    "\n",
    "\n",
    "#Create data frame for ages 40+\n",
    "over40DF = purchase_data.loc[purchase_data[\"Age\"] >= 40, :]\n",
    "\n",
    "#Find number of users for ages 40+\n",
    "over40Unique = over40DF[\"SN\"].unique()\n",
    "over40Count = len(over40Unique)\n",
    "\n",
    "\n",
    "#Calculate percentages of each age group\n",
    "totalAgeCount = below10Count + tenTo14Count + fifteenTo19Count + twentyTo24Count + twenty5To29Count + thirtyTo34Count +           thirty5To39Count + over40Count\n",
    "\n",
    "group1Percent = (below10Count / totalAgeCount) * 100\n",
    "group2Percent = (tenTo14Count / totalAgeCount) * 100\n",
    "group3Percent = (fifteenTo19Count / totalAgeCount) * 100\n",
    "group4Percent = (twentyTo24Count / totalAgeCount) * 100\n",
    "group5Percent = (twenty5To29Count / totalAgeCount) * 100\n",
    "group6Percent = (thirtyTo34Count / totalAgeCount) * 100\n",
    "group7Percent = (thirty5To39Count / totalAgeCount) * 100\n",
    "group8Percent = (over40Count / totalAgeCount) * 100\n",
    "\n",
    "\n",
    "#Format floats in dictionary to have % and two decimals\n",
    "pd.options.display.float_format = \"{:,.2f}%\".format\n",
    "\n",
    "\n",
    "#Create data frame\n",
    "ageDemoDF = pd.DataFrame([(below10Count, group1Percent), (tenTo14Count, group2Percent), (fifteenTo19Count, group3Percent), (twentyTo24Count, group4Percent), (twenty5To29Count, group5Percent), (thirtyTo34Count, group6Percent), (thirty5To39Count, group7Percent), (over40Count, group8Percent)], columns = [\"Total Count\", \"Percentage of Players\"], index = [\"<10\", \"10-14\", \"15-19\", \"20-24\", \"25-29\", \"30-34\", \"35-39\", \"40+\"])\n",
    "ageDemoDF"
   ]
  },
  {
   "cell_type": "markdown",
   "metadata": {},
   "source": [
    "## Purchasing Analysis (Age)"
   ]
  },
  {
   "cell_type": "markdown",
   "metadata": {},
   "source": [
    "* Bin the purchase_data data frame by age\n",
    "\n",
    "\n",
    "* Run basic calculations to obtain purchase count, avg. purchase price, avg. purchase total per person etc. in the table below\n",
    "\n",
    "\n",
    "* Create a summary data frame to hold the results\n",
    "\n",
    "\n",
    "* Optional: give the displayed data cleaner formatting\n",
    "\n",
    "\n",
    "* Display the summary data frame"
   ]
  },
  {
   "cell_type": "code",
   "execution_count": 9,
   "metadata": {},
   "outputs": [
    {
     "output_type": "execute_result",
     "data": {
      "text/plain": "       Purchase Count  Avg Purchase Price  Total Purchse Price  \\\n&lt;10                23               $3.35               $77.13   \n10-14              28               $2.96               $82.78   \n15-19             136               $3.04              $412.89   \n20-24             365               $3.05            $1,114.06   \n25-29             101               $2.90              $293.00   \n30-34              73               $2.93              $214.00   \n35-39              41               $3.60              $147.67   \n40+                13               $2.94               $38.24   \n\n       Avg Total Purchase Per Person  \n&lt;10                            $4.54  \n10-14                          $3.76  \n15-19                          $3.86  \n20-24                          $4.32  \n25-29                          $3.81  \n30-34                          $4.12  \n35-39                          $4.76  \n40+                            $3.19  ",
      "text/html": "<div>\n<style scoped>\n    .dataframe tbody tr th:only-of-type {\n        vertical-align: middle;\n    }\n\n    .dataframe tbody tr th {\n        vertical-align: top;\n    }\n\n    .dataframe thead th {\n        text-align: right;\n    }\n</style>\n<table border=\"1\" class=\"dataframe\">\n  <thead>\n    <tr style=\"text-align: right;\">\n      <th></th>\n      <th>Purchase Count</th>\n      <th>Avg Purchase Price</th>\n      <th>Total Purchse Price</th>\n      <th>Avg Total Purchase Per Person</th>\n    </tr>\n  </thead>\n  <tbody>\n    <tr>\n      <th>&lt;10</th>\n      <td>23</td>\n      <td>$3.35</td>\n      <td>$77.13</td>\n      <td>$4.54</td>\n    </tr>\n    <tr>\n      <th>10-14</th>\n      <td>28</td>\n      <td>$2.96</td>\n      <td>$82.78</td>\n      <td>$3.76</td>\n    </tr>\n    <tr>\n      <th>15-19</th>\n      <td>136</td>\n      <td>$3.04</td>\n      <td>$412.89</td>\n      <td>$3.86</td>\n    </tr>\n    <tr>\n      <th>20-24</th>\n      <td>365</td>\n      <td>$3.05</td>\n      <td>$1,114.06</td>\n      <td>$4.32</td>\n    </tr>\n    <tr>\n      <th>25-29</th>\n      <td>101</td>\n      <td>$2.90</td>\n      <td>$293.00</td>\n      <td>$3.81</td>\n    </tr>\n    <tr>\n      <th>30-34</th>\n      <td>73</td>\n      <td>$2.93</td>\n      <td>$214.00</td>\n      <td>$4.12</td>\n    </tr>\n    <tr>\n      <th>35-39</th>\n      <td>41</td>\n      <td>$3.60</td>\n      <td>$147.67</td>\n      <td>$4.76</td>\n    </tr>\n    <tr>\n      <th>40+</th>\n      <td>13</td>\n      <td>$2.94</td>\n      <td>$38.24</td>\n      <td>$3.19</td>\n    </tr>\n  </tbody>\n</table>\n</div>"
     },
     "metadata": {},
     "execution_count": 9
    }
   ],
   "source": [
    "#Pull data from below 10 data frame for later manipulation\n",
    "below10Purchase = len(below10DF[\"SN\"])\n",
    "below10Average = below10DF[\"Price\"].mean()\n",
    "below10Total = below10DF[\"Price\"].sum()\n",
    "below10TotalAverage = below10Total / below10Count\n",
    "\n",
    "#Pull data from 10 to 14 data frame for later manipulation\n",
    "tenTo14Purchase = len(tenTo14DF[\"SN\"])\n",
    "tenTo14Average = tenTo14DF[\"Price\"].mean()\n",
    "tenTo14Total = tenTo14DF[\"Price\"].sum()\n",
    "tenTo14TotalAverage = tenTo14Total / tenTo14Count\n",
    "\n",
    "# #Pull data from 15 to 19 data frame for later manipulation\n",
    "fifteenTo19Purchase = len(fifteenTo19DF[\"SN\"])\n",
    "fifteenTo19Average = fifteenTo19DF[\"Price\"].mean()\n",
    "fifteenTo19Total = fifteenTo19DF[\"Price\"].sum()\n",
    "fifteenTo19TotalAverage = fifteenTo19Total / fifteenTo19Count\n",
    "\n",
    "# #Pull data from 20 to 24 data frame for later manipulation\n",
    "twentyTo24Purchase = len(twentyTo24DF[\"SN\"])\n",
    "twentyTo24Average = twentyTo24DF[\"Price\"].mean()\n",
    "twentyTo24Total = twentyTo24DF[\"Price\"].sum()\n",
    "twentyTo24TotalAverage = twentyTo24Total / twentyTo24Count\n",
    "\n",
    "# #Pull data from 25 to 29 data frame for later manipulation\n",
    "twenty5To29Purchase = len(twenty5To29DF[\"SN\"])\n",
    "twenty5To29Average = twenty5To29DF[\"Price\"].mean()\n",
    "twenty5To29Total = twenty5To29DF[\"Price\"].sum()\n",
    "twenty5To29TotalAverage = twenty5To29Total / twenty5To29Count\n",
    "\n",
    "# #Pull data from 30 to 34 data frame for later manipulation\n",
    "thirtyTo34Purchase = len(thirtyTo34DF[\"SN\"])\n",
    "thirtyTo34Average = thirtyTo34DF[\"Price\"].mean()\n",
    "thirtyTo34Total = thirtyTo34DF[\"Price\"].sum()\n",
    "thirtyTo34TotalAverage = thirtyTo34Total / thirtyTo34Count\n",
    "\n",
    "# #Pull data from 35 to 39 data frame for later manipulation\n",
    "thirty5To39Purchase = len(thirty5To39DF[\"SN\"])\n",
    "thirty5To39Average = thirty5To39DF[\"Price\"].mean()\n",
    "thirty5To39Total = thirty5To39DF[\"Price\"].sum()\n",
    "thirty5To39TotalAverage = thirty5To39Total / thirty5To39Count\n",
    "\n",
    "# #Pull data from 40+ data frame for later manipulation\n",
    "over40Purchase = len(over40DF[\"SN\"])\n",
    "over40Average = over40DF[\"Price\"].mean()\n",
    "over40Total = over40DF[\"Price\"].sum()\n",
    "over40TotalAverage = over40Total / over40Count\n",
    "\n",
    "#Change formatting of floats to show in $ with 2 decimal places\n",
    "pd.options.display.float_format = \"${:,.2f}\".format\n",
    "\n",
    "#Create summary data frame\n",
    "ageAnalysisDF = pd.DataFrame([(below10Purchase, below10Average, below10Total, below10TotalAverage),\n",
    "                (tenTo14Purchase, tenTo14Average, tenTo14Total, tenTo14TotalAverage),\n",
    "                (fifteenTo19Purchase, fifteenTo19Average, fifteenTo19Total, fifteenTo19TotalAverage),\n",
    "                (twentyTo24Purchase, twentyTo24Average, twentyTo24Total, twentyTo24TotalAverage),\n",
    "                (twenty5To29Purchase, twenty5To29Average, twenty5To29Total, twenty5To29TotalAverage),\n",
    "                (thirtyTo34Purchase, thirtyTo34Average, thirtyTo34Total, thirtyTo34TotalAverage),\n",
    "                (thirty5To39Purchase, thirty5To39Average, thirty5To39Total, thirty5To39TotalAverage),\n",
    "                (over40Purchase, over40Average, over40Total, over40TotalAverage)],\n",
    "                columns = [\"Purchase Count\", \"Avg Purchase Price\", \"Total Purchse Price\", \"Avg Total Purchase Per Person\"], index =                   [\"<10\", \"10-14\", \"15-19\", \"20-24\", \"25-29\", \"30-34\", \"35-39\", \"40+\"])\n",
    "ageAnalysisDF"
   ]
  },
  {
   "cell_type": "markdown",
   "metadata": {},
   "source": [
    "## Top Spenders"
   ]
  },
  {
   "cell_type": "markdown",
   "metadata": {},
   "source": [
    "* Run basic calculations to obtain the results in the table below\n",
    "\n",
    "\n",
    "* Create a summary data frame to hold the results\n",
    "\n",
    "\n",
    "* Sort the total purchase value column in descending order\n",
    "\n",
    "\n",
    "* Optional: give the displayed data cleaner formatting\n",
    "\n",
    "\n",
    "* Display a preview of the summary data frame\n",
    "\n"
   ]
  },
  {
   "cell_type": "code",
   "execution_count": 26,
   "metadata": {},
   "outputs": [
    {
     "output_type": "execute_result",
     "data": {
      "text/plain": "             Purchase Count  Average Purchase Price  Total Purchase Value\nLisosia93                 5                   $3.79                $18.96\nIdastidru52               4                   $3.86                $15.45\nIskadarya95               3                   $4.37                $13.10\nChamjask73                3                   $4.61                $13.83",
      "text/html": "<div>\n<style scoped>\n    .dataframe tbody tr th:only-of-type {\n        vertical-align: middle;\n    }\n\n    .dataframe tbody tr th {\n        vertical-align: top;\n    }\n\n    .dataframe thead th {\n        text-align: right;\n    }\n</style>\n<table border=\"1\" class=\"dataframe\">\n  <thead>\n    <tr style=\"text-align: right;\">\n      <th></th>\n      <th>Purchase Count</th>\n      <th>Average Purchase Price</th>\n      <th>Total Purchase Value</th>\n    </tr>\n  </thead>\n  <tbody>\n    <tr>\n      <th>Lisosia93</th>\n      <td>5</td>\n      <td>$3.79</td>\n      <td>$18.96</td>\n    </tr>\n    <tr>\n      <th>Idastidru52</th>\n      <td>4</td>\n      <td>$3.86</td>\n      <td>$15.45</td>\n    </tr>\n    <tr>\n      <th>Iskadarya95</th>\n      <td>3</td>\n      <td>$4.37</td>\n      <td>$13.10</td>\n    </tr>\n    <tr>\n      <th>Chamjask73</th>\n      <td>3</td>\n      <td>$4.61</td>\n      <td>$13.83</td>\n    </tr>\n  </tbody>\n</table>\n</div>"
     },
     "metadata": {},
     "execution_count": 26
    }
   ],
   "source": [
    "topPlayers = purchase_data[\"SN\"].value_counts().nlargest(5)\n",
    "\n",
    "players = ['Lisosia93', 'Idastidru52', 'Chamjask73', 'Ira174', 'Iskadarya95']\n",
    "\n",
    "selectedPlayers = purchase_data[purchase_data[\"SN\"].isin(players)]\n",
    "\n",
    "selectedPurchaseCount = selectedPlayers[\"SN\"].value_counts()\n",
    "selectedAverage = selectedPlayers.groupby([\"SN\"]).mean().loc[:,\"Price\"]\n",
    "selectedTotal = selectedPlayers.groupby([\"SN\"]).sum().loc[:, \"Price\"]\n",
    "\n",
    "topPlayersDF = pd.concat([selectedPurchaseCount, selectedAverage, selectedTotal,], axis = 1)\n",
    "topPlayersDF.columns = [\"Purchase Count\", \"Average Purchase Price\", \"Total Purchase Value\"]\n",
    "\n",
    "topPlayersDF"
   ]
  },
  {
   "cell_type": "markdown",
   "metadata": {},
   "source": [
    "## Most Popular Items"
   ]
  },
  {
   "cell_type": "markdown",
   "metadata": {},
   "source": [
    "* Retrieve the Item ID, Item Name, and Item Price columns\n",
    "\n",
    "\n",
    "* Group by Item ID and Item Name. Perform calculations to obtain purchase count, average item price, and total purchase value\n",
    "\n",
    "\n",
    "* Create a summary data frame to hold the results\n",
    "\n",
    "\n",
    "* Sort the purchase count column in descending order\n",
    "\n",
    "\n",
    "* Optional: give the displayed data cleaner formatting\n",
    "\n",
    "\n",
    "* Display a preview of the summary data frame\n",
    "\n"
   ]
  },
  {
   "cell_type": "code",
   "execution_count": null,
   "metadata": {},
   "outputs": [],
   "source": []
  },
  {
   "cell_type": "markdown",
   "metadata": {},
   "source": [
    "## Most Profitable Items"
   ]
  },
  {
   "cell_type": "markdown",
   "metadata": {},
   "source": [
    "* Sort the above table by total purchase value in descending order\n",
    "\n",
    "\n",
    "* Optional: give the displayed data cleaner formatting\n",
    "\n",
    "\n",
    "* Display a preview of the data frame\n",
    "\n"
   ]
  },
  {
   "cell_type": "code",
   "execution_count": null,
   "metadata": {
    "scrolled": true
   },
   "outputs": [],
   "source": []
  }
 ],
 "metadata": {
  "anaconda-cloud": {},
  "kernel_info": {
   "name": "python3"
  },
  "kernelspec": {
   "display_name": "Python 3",
   "language": "python",
   "name": "python3"
  },
  "language_info": {
   "codemirror_mode": {
    "name": "ipython",
    "version": 3
   },
   "file_extension": ".py",
   "mimetype": "text/x-python",
   "name": "python",
   "nbconvert_exporter": "python",
   "pygments_lexer": "ipython3",
   "version": "3.8.3-final"
  },
  "latex_envs": {
   "LaTeX_envs_menu_present": true,
   "autoclose": false,
   "autocomplete": true,
   "bibliofile": "biblio.bib",
   "cite_by": "apalike",
   "current_citInitial": 1,
   "eqLabelWithNumbers": true,
   "eqNumInitial": 1,
   "hotkeys": {
    "equation": "Ctrl-E",
    "itemize": "Ctrl-I"
   },
   "labels_anchors": false,
   "latex_user_defs": false,
   "report_style_numbering": false,
   "user_envs_cfg": false
  },
  "nteract": {
   "version": "0.2.0"
  }
 },
 "nbformat": 4,
 "nbformat_minor": 2
}