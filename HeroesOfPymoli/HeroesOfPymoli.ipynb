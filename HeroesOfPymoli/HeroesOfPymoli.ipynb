{
 "cells": [
  {
   "cell_type": "markdown",
   "metadata": {},
   "source": [
    "### Note\n",
    "* Instructions have been included for each segment. You do not have to follow them exactly, but they are included to help you think through the steps."
   ]
  },
  {
   "cell_type": "code",
   "execution_count": 5,
   "metadata": {},
   "outputs": [],
   "source": [
    "# Dependencies and Setup\n",
    "import pandas as pd\n",
    "import numpy as np\n",
    "\n",
    "# File to Load (Remember to Change These)\n",
    "file_to_load = \"Resources/purchase_data.csv\"\n",
    "\n",
    "# Read Purchasing File and store into Pandas data frame\n",
    "purchase_data = pd.read_csv(file_to_load)"
   ]
  },
  {
   "cell_type": "markdown",
   "metadata": {},
   "source": [
    "## Player Count"
   ]
  },
  {
   "source": [
    "* Display the total number of players"
   ],
   "cell_type": "markdown",
   "metadata": {}
  },
  {
   "cell_type": "code",
   "execution_count": 6,
   "metadata": {
    "tags": []
   },
   "outputs": [
    {
     "output_type": "stream",
     "name": "stdout",
     "text": "Total Players:  576\n"
    }
   ],
   "source": [
    "#Calculate the number of unique players from the purchase data csv\n",
    "uniquePlayers = purchase_data[\"SN\"].unique()\n",
    "\n",
    "#Set the number of total players to the length of the uniquePlayers array\n",
    "totalPlayers = len(uniquePlayers)\n",
    "\n",
    "#Print out the number of total players\n",
    "print(\"Total Players: \", totalPlayers)"
   ]
  },
  {
   "source": [
    "## Purchasing Analysis (Total)"
   ],
   "cell_type": "markdown",
   "metadata": {}
  },
  {
   "source": [
    "* Run basic calculations to obtain number of unique items, average price, etc.\n",
    "\n",
    "\n",
    "* Create a summary data frame to hold the results\n",
    "\n",
    "\n",
    "* Optional: give the displayed data cleaner formatting\n",
    "\n",
    "\n",
    "* Display the summary data frame"
   ],
   "cell_type": "markdown",
   "metadata": {}
  },
  {
   "cell_type": "code",
   "execution_count": 7,
   "metadata": {
    "scrolled": true
   },
   "outputs": [
    {
     "output_type": "execute_result",
     "data": {
      "text/plain": "   Number of Unique Items  Average Price of Items  \\\n0                     179                   $3.05   \n\n   Total                   Number of Purchases  Total Revenue  \n0                                          780      $2,379.77  ",
      "text/html": "<div>\n<style scoped>\n    .dataframe tbody tr th:only-of-type {\n        vertical-align: middle;\n    }\n\n    .dataframe tbody tr th {\n        vertical-align: top;\n    }\n\n    .dataframe thead th {\n        text-align: right;\n    }\n</style>\n<table border=\"1\" class=\"dataframe\">\n  <thead>\n    <tr style=\"text-align: right;\">\n      <th></th>\n      <th>Number of Unique Items</th>\n      <th>Average Price of Items</th>\n      <th>Total                   Number of Purchases</th>\n      <th>Total Revenue</th>\n    </tr>\n  </thead>\n  <tbody>\n    <tr>\n      <th>0</th>\n      <td>179</td>\n      <td>$3.05</td>\n      <td>780</td>\n      <td>$2,379.77</td>\n    </tr>\n  </tbody>\n</table>\n</div>"
     },
     "metadata": {},
     "execution_count": 7
    }
   ],
   "source": [
    "#Gather information from the purchase data file and store it into variables\n",
    "uniqueItemsArray = purchase_data[\"Item ID\"].unique()\n",
    "uniqueItems = len(uniqueItemsArray)\n",
    "averagePrice = purchase_data[\"Price\"].mean()\n",
    "totalPurchases = purchase_data[\"Purchase ID\"].count()\n",
    "totalRevenue = purchase_data[\"Price\"].sum()\n",
    "\n",
    "#Create a dictionary to house summary information\n",
    "summaryDicts = [{\"Number of Unique Items\": uniqueItems, \"Average Price of Items\": averagePrice, \"Total                   Number of Purchases\": totalPurchases, \"Total Revenue\": totalRevenue}]\n",
    "\n",
    "#Format floats in dictonary to have $ and two decimals\n",
    "pd.options.display.float_format = \"${:,.2f}\".format\n",
    "\n",
    "#Convert summary information into a dataframe\n",
    "summaryDF = pd.DataFrame(summaryDicts)\n",
    "summaryDF"
   ]
  },
  {
   "cell_type": "markdown",
   "metadata": {},
   "source": [
    "## Gender Demographics"
   ]
  },
  {
   "cell_type": "markdown",
   "metadata": {},
   "source": [
    "* Percentage and Count of Male Players\n",
    "\n",
    "\n",
    "* Percentage and Count of Female Players\n",
    "\n",
    "\n",
    "* Percentage and Count of Other / Non-Disclosed\n",
    "\n",
    "\n"
   ]
  },
  {
   "cell_type": "code",
   "execution_count": 8,
   "metadata": {},
   "outputs": [
    {
     "output_type": "execute_result",
     "data": {
      "text/plain": "                       Count  Percentage of Players\nMale                     652                 83.59%\nFemale                   113                 14.49%\nOther / Non-Disclosed     15                  1.92%",
      "text/html": "<div>\n<style scoped>\n    .dataframe tbody tr th:only-of-type {\n        vertical-align: middle;\n    }\n\n    .dataframe tbody tr th {\n        vertical-align: top;\n    }\n\n    .dataframe thead th {\n        text-align: right;\n    }\n</style>\n<table border=\"1\" class=\"dataframe\">\n  <thead>\n    <tr style=\"text-align: right;\">\n      <th></th>\n      <th>Count</th>\n      <th>Percentage of Players</th>\n    </tr>\n  </thead>\n  <tbody>\n    <tr>\n      <th>Male</th>\n      <td>652</td>\n      <td>83.59%</td>\n    </tr>\n    <tr>\n      <th>Female</th>\n      <td>113</td>\n      <td>14.49%</td>\n    </tr>\n    <tr>\n      <th>Other / Non-Disclosed</th>\n      <td>15</td>\n      <td>1.92%</td>\n    </tr>\n  </tbody>\n</table>\n</div>"
     },
     "metadata": {},
     "execution_count": 8
    }
   ],
   "source": [
    "#Create dataframe to count number of 'Male', 'Female', and 'Other / Non-Disclosed'\n",
    "genderCount = purchase_data[\"Gender\"].value_counts()\n",
    "\n",
    "#Put vales for 'Male', 'Female', and 'Other / Non-Disclosed' into variables \n",
    "maleCount = genderCount[\"Male\"]\n",
    "femaleCount = genderCount[\"Female\"]\n",
    "nonCount = genderCount[\"Other / Non-Disclosed\"]\n",
    "\n",
    "#Calculate percentages of Gender\n",
    "totalCount = maleCount + femaleCount + nonCount\n",
    "\n",
    "malePercent = (maleCount / totalCount) * 100\n",
    "femalePercent = (femaleCount / totalCount) * 100\n",
    "nonPercent = (nonCount / totalCount) * 100\n",
    "\n",
    "#Format floats in dictionary to have % and two decimals\n",
    "pd.options.display.float_format = \"{:,.2f}%\".format\n",
    "\n",
    "#Create data frame\n",
    "genderDF = pd.DataFrame([(maleCount, malePercent), (femaleCount, femalePercent), (nonCount, nonPercent)], columns = ['Count', 'Percentage of Players'], index = ['Male', 'Female', 'Other / Non-Disclosed'])\n",
    "genderDF"
   ]
  },
  {
   "cell_type": "markdown",
   "metadata": {},
   "source": [
    "\n",
    "## Purchasing Analysis (Gender)"
   ]
  },
  {
   "cell_type": "markdown",
   "metadata": {},
   "source": [
    "* Run basic calculations to obtain purchase count, avg. purchase price, avg. purchase total per person etc. by gender\n",
    "\n",
    "\n",
    "\n",
    "\n",
    "* Create a summary data frame to hold the results\n",
    "\n",
    "\n",
    "* Optional: give the displayed data cleaner formatting\n",
    "\n",
    "\n",
    "* Display the summary data frame"
   ]
  },
  {
   "cell_type": "code",
   "execution_count": 9,
   "metadata": {},
   "outputs": [
    {
     "output_type": "execute_result",
     "data": {
      "text/plain": "                       Purchase Count  Avg Purchase Price  \\\nMale                              652               $3.02   \nFemale                            113               $3.20   \nOther / Non-Disclosed              15               $3.35   \n\n                       Total Purchse                                      Price  \\\nMale                                                           $1,967.64          \nFemale                                                           $361.94          \nOther / Non-Disclosed                                             $50.19          \n\n                       Avg Total Purchase Per Person  \nMale                                           $4.07  \nFemale                                         $4.47  \nOther / Non-Disclosed                          $4.56  ",
      "text/html": "<div>\n<style scoped>\n    .dataframe tbody tr th:only-of-type {\n        vertical-align: middle;\n    }\n\n    .dataframe tbody tr th {\n        vertical-align: top;\n    }\n\n    .dataframe thead th {\n        text-align: right;\n    }\n</style>\n<table border=\"1\" class=\"dataframe\">\n  <thead>\n    <tr style=\"text-align: right;\">\n      <th></th>\n      <th>Purchase Count</th>\n      <th>Avg Purchase Price</th>\n      <th>Total Purchse                                      Price</th>\n      <th>Avg Total Purchase Per Person</th>\n    </tr>\n  </thead>\n  <tbody>\n    <tr>\n      <th>Male</th>\n      <td>652</td>\n      <td>$3.02</td>\n      <td>$1,967.64</td>\n      <td>$4.07</td>\n    </tr>\n    <tr>\n      <th>Female</th>\n      <td>113</td>\n      <td>$3.20</td>\n      <td>$361.94</td>\n      <td>$4.47</td>\n    </tr>\n    <tr>\n      <th>Other / Non-Disclosed</th>\n      <td>15</td>\n      <td>$3.35</td>\n      <td>$50.19</td>\n      <td>$4.56</td>\n    </tr>\n  </tbody>\n</table>\n</div>"
     },
     "metadata": {},
     "execution_count": 9
    }
   ],
   "source": [
    "#Create a data frame for the 'Male' gender\n",
    "maleDF = purchase_data.loc[purchase_data[\"Gender\"] == \"Male\", :]\n",
    "\n",
    "#Pull data from 'Male' data frame for later manipulation\n",
    "uniqueMaleArray = maleDF[\"SN\"].unique()\n",
    "uniqueMale = len(uniqueMaleArray)\n",
    "\n",
    "maleAverage = maleDF[\"Price\"].mean()\n",
    "maleTotal = maleDF[\"Price\"].sum()\n",
    "maleTotalAverage = maleTotal / uniqueMale\n",
    "\n",
    "#Create a data frame for the 'Female' gender\n",
    "femaleDF = purchase_data.loc[purchase_data[\"Gender\"] == \"Female\", :]\n",
    "\n",
    "#Pull data from 'Female' data frame for later manipulation\n",
    "uniqueFemaleArray = femaleDF[\"SN\"].unique()\n",
    "uniqueFemale = len(uniqueFemaleArray)\n",
    "\n",
    "femaleAverage = femaleDF[\"Price\"].mean()\n",
    "femaleTotal = femaleDF[\"Price\"].sum()\n",
    "femaleTotalAverage = femaleTotal / uniqueFemale\n",
    "\n",
    "#Create a data frame for the 'Other / Non-Disclosed' gender\n",
    "nonDF = purchase_data.loc[purchase_data[\"Gender\"] == \"Other / Non-Disclosed\", :]\n",
    "\n",
    "#Pull data from 'Other / Non-Disclosed' data frame for later manipulation\n",
    "uniqueNonArray = nonDF[\"SN\"].unique()\n",
    "uniqueNon = len(uniqueNonArray)\n",
    "\n",
    "nonAverage = nonDF[\"Price\"].mean()\n",
    "nonTotal = nonDF[\"Price\"].sum()\n",
    "nonTotalAverage = nonTotal / uniqueNon\n",
    "\n",
    "#Change formatting of floats to show in $ with 2 decimal places\n",
    "pd.options.display.float_format = \"${:,.2f}\".format\n",
    "\n",
    "#Create new data frame by combining values calculated above\n",
    "genderAnalysisDF = pd.DataFrame([(maleCount, maleAverage, maleTotal, maleTotalAverage), \n",
    "                                 (femaleCount, femaleAverage, femaleTotal, femaleTotalAverage),\n",
    "                                 (nonCount, nonAverage, nonTotal, nonTotalAverage)],\n",
    "                                 columns = [\"Purchase Count\", \"Avg Purchase Price\", \"Total Purchse                                      Price\", \"Avg Total Purchase Per Person\"], index = ['Male', 'Female',                                   'Other / Non-Disclosed'])\n",
    "genderAnalysisDF"
   ]
  },
  {
   "source": [
    "## Age Demographics"
   ],
   "cell_type": "markdown",
   "metadata": {
    "tags": []
   }
  },
  {
   "source": [
    "* Establish bins for ages\n",
    "\n",
    "\n",
    "* Categorize the existing players using the age bins. Hint: use pd.cut()\n",
    "\n",
    "\n",
    "* Calculate the numbers and percentages by age group\n",
    "\n",
    "\n",
    "* Create a summary data frame to hold the results\n",
    "\n",
    "\n",
    "* Optional: round the percentage column to two decimal points\n",
    "\n",
    "\n",
    "* Display Age Demographics Table\n"
   ],
   "cell_type": "markdown",
   "metadata": {}
  },
  {
   "cell_type": "code",
   "execution_count": 46,
   "metadata": {},
   "outputs": [
    {
     "output_type": "execute_result",
     "data": {
      "text/plain": "77"
     },
     "metadata": {},
     "execution_count": 46
    }
   ],
   "source": [
    "#Create data frame for ages less than 10\n",
    "below10DF = purchase_data.loc[purchase_data[\"Age\"] <= 9, :]\n",
    "\n",
    "#Find number of users under age 10\n",
    "below10Unique = below10DF[\"SN\"].unique()\n",
    "below10Count = len(below10Unique)\n",
    "\n",
    "#Create data frame for ages 10 to 14\n",
    "tenTo14DF = purchase_data.loc[((purchase_data[\"Age\"] >= 10) & (purchase_data[\"Age\"] <= 14)), :]\n",
    "\n",
    "#Find number of users ages 10 to 14\n",
    "tenTo14Unique = tenTo14DF[\"SN\"].unique()\n",
    "tenTo14Count = len(tenTo14Unique)\n",
    "\n",
    "#Create data frame for ages 15 to 19\n",
    "fifteenTo19DF = purchase_data.loc[((purchase_data[\"Age\"] >= 15) & (purchase_data[\"Age\"] <= 19)), :]\n",
    "\n",
    "#Find number of users for ages 15 to 19\n",
    "fifteenTo19Unique = fifteenTo19DF[\"SN\"].unique()\n",
    "fifteenTo19Count = len(fifteenTo19Unique)\n",
    "\n",
    "#Create data frame for ages 20 to 24\n",
    "twentyTo24DF = purchase_data.loc[((purchase_data[\"Age\"] >= 20) & (purchase_data[\"Age\"] <= 24)), :]\n",
    "\n",
    "#Find number of users for ages 20 to 24\n",
    "twentyTo24Unique = twentyTo24DF[\"SN\"].unique()\n",
    "twentyTo24Count = len(twentyTo24Unique)\n",
    "\n",
    "#Create data frame for ages 25 to 29\n",
    "twenty5To29DF = purchase_data.loc[((purchase_data[\"Age\"] >= 25) & (purchase_data[\"Age\"] <= 29)), :]\n",
    "\n",
    "#Find number of users ages 25 to 29\n",
    "twenty5To29Unique = twenty5To29DF[\"SN\"].unique()\n",
    "twenty5To29Count = len(twenty5To29Unique)"
   ]
  },
  {
   "cell_type": "markdown",
   "metadata": {},
   "source": [
    "## Purchasing Analysis (Age)"
   ]
  },
  {
   "cell_type": "markdown",
   "metadata": {},
   "source": [
    "* Bin the purchase_data data frame by age\n",
    "\n",
    "\n",
    "* Run basic calculations to obtain purchase count, avg. purchase price, avg. purchase total per person etc. in the table below\n",
    "\n",
    "\n",
    "* Create a summary data frame to hold the results\n",
    "\n",
    "\n",
    "* Optional: give the displayed data cleaner formatting\n",
    "\n",
    "\n",
    "* Display the summary data frame"
   ]
  },
  {
   "cell_type": "code",
   "execution_count": null,
   "metadata": {},
   "outputs": [],
   "source": []
  },
  {
   "cell_type": "markdown",
   "metadata": {},
   "source": [
    "## Top Spenders"
   ]
  },
  {
   "cell_type": "markdown",
   "metadata": {},
   "source": [
    "* Run basic calculations to obtain the results in the table below\n",
    "\n",
    "\n",
    "* Create a summary data frame to hold the results\n",
    "\n",
    "\n",
    "* Sort the total purchase value column in descending order\n",
    "\n",
    "\n",
    "* Optional: give the displayed data cleaner formatting\n",
    "\n",
    "\n",
    "* Display a preview of the summary data frame\n",
    "\n"
   ]
  },
  {
   "cell_type": "code",
   "execution_count": null,
   "metadata": {},
   "outputs": [],
   "source": []
  },
  {
   "cell_type": "markdown",
   "metadata": {},
   "source": [
    "## Most Popular Items"
   ]
  },
  {
   "cell_type": "markdown",
   "metadata": {},
   "source": [
    "* Retrieve the Item ID, Item Name, and Item Price columns\n",
    "\n",
    "\n",
    "* Group by Item ID and Item Name. Perform calculations to obtain purchase count, average item price, and total purchase value\n",
    "\n",
    "\n",
    "* Create a summary data frame to hold the results\n",
    "\n",
    "\n",
    "* Sort the purchase count column in descending order\n",
    "\n",
    "\n",
    "* Optional: give the displayed data cleaner formatting\n",
    "\n",
    "\n",
    "* Display a preview of the summary data frame\n",
    "\n"
   ]
  },
  {
   "cell_type": "code",
   "execution_count": null,
   "metadata": {},
   "outputs": [],
   "source": []
  },
  {
   "cell_type": "markdown",
   "metadata": {},
   "source": [
    "## Most Profitable Items"
   ]
  },
  {
   "cell_type": "markdown",
   "metadata": {},
   "source": [
    "* Sort the above table by total purchase value in descending order\n",
    "\n",
    "\n",
    "* Optional: give the displayed data cleaner formatting\n",
    "\n",
    "\n",
    "* Display a preview of the data frame\n",
    "\n"
   ]
  },
  {
   "cell_type": "code",
   "execution_count": null,
   "metadata": {
    "scrolled": true
   },
   "outputs": [],
   "source": []
  }
 ],
 "metadata": {
  "anaconda-cloud": {},
  "kernel_info": {
   "name": "python3"
  },
  "kernelspec": {
   "display_name": "Python 3",
   "language": "python",
   "name": "python3"
  },
  "language_info": {
   "codemirror_mode": {
    "name": "ipython",
    "version": 3
   },
   "file_extension": ".py",
   "mimetype": "text/x-python",
   "name": "python",
   "nbconvert_exporter": "python",
   "pygments_lexer": "ipython3",
   "version": "3.8.3-final"
  },
  "latex_envs": {
   "LaTeX_envs_menu_present": true,
   "autoclose": false,
   "autocomplete": true,
   "bibliofile": "biblio.bib",
   "cite_by": "apalike",
   "current_citInitial": 1,
   "eqLabelWithNumbers": true,
   "eqNumInitial": 1,
   "hotkeys": {
    "equation": "Ctrl-E",
    "itemize": "Ctrl-I"
   },
   "labels_anchors": false,
   "latex_user_defs": false,
   "report_style_numbering": false,
   "user_envs_cfg": false
  },
  "nteract": {
   "version": "0.2.0"
  }
 },
 "nbformat": 4,
 "nbformat_minor": 2
}